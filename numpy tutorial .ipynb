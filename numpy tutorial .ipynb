{
 "cells": [
  {
   "cell_type": "markdown",
   "metadata": {},
   "source": [
    "# numpy tutorial  "
   ]
  },
  {
   "cell_type": "markdown",
   "metadata": {},
   "source": [
    "numpy is a array preprocessing package. it provides a high- performance multidimensional array object , tools for working with these arrays. it is the fundamental package for scientific computing in python."
   ]
  },
  {
   "cell_type": "markdown",
   "metadata": {},
   "source": [
    "An array class in numpy called as ndarray."
   ]
  },
  {
   "cell_type": "markdown",
   "metadata": {},
   "source": [
    "# numpy array creation"
   ]
  },
  {
   "cell_type": "code",
   "execution_count": 1,
   "metadata": {},
   "outputs": [
    {
     "name": "stdout",
     "output_type": "stream",
     "text": [
      "[1 2 3 4 5 6]\n"
     ]
    }
   ],
   "source": [
    "import numpy as np\n",
    "arr = np.array([1,2,3,4,5,6]) # this is rank 1 array\n",
    "print(arr)"
   ]
  },
  {
   "cell_type": "code",
   "execution_count": 2,
   "metadata": {},
   "outputs": [
    {
     "name": "stdout",
     "output_type": "stream",
     "text": [
      "[[1 2 3]\n",
      " [4 5 6]]\n"
     ]
    }
   ],
   "source": [
    "arr =np.array([[1,2,3],[4,5,6]])# this is rank 2 array\n",
    "print(arr)"
   ]
  },
  {
   "cell_type": "markdown",
   "metadata": {},
   "source": [
    "numpty array using tuple--"
   ]
  },
  {
   "cell_type": "code",
   "execution_count": 3,
   "metadata": {},
   "outputs": [
    {
     "name": "stdout",
     "output_type": "stream",
     "text": [
      "[1 2 3 4 5]\n"
     ]
    }
   ],
   "source": [
    "arr =np.array((1,2,3,4,5))# numpy array creation using tuple \n",
    "print(arr)"
   ]
  },
  {
   "cell_type": "markdown",
   "metadata": {},
   "source": [
    "# Accessing the array index"
   ]
  },
  {
   "cell_type": "code",
   "execution_count": 5,
   "metadata": {},
   "outputs": [
    {
     "name": "stdout",
     "output_type": "stream",
     "text": [
      "[[ 1  2  3  4]\n",
      " [ 5  6  7  8]\n",
      " [ 9 10 11 12]\n",
      " [13 14 15 16]]\n"
     ]
    }
   ],
   "source": [
    "arr =np.array([[1,2,3,4],\n",
    "               [5,6,7,8],\n",
    "               [9,10,11,12],\n",
    "               [13,14,15,16]])\n",
    "print(arr)"
   ]
  },
  {
   "cell_type": "code",
   "execution_count": 14,
   "metadata": {},
   "outputs": [
    {
     "name": "stdout",
     "output_type": "stream",
     "text": [
      "[[ 1  4]\n",
      " [ 5  8]\n",
      " [ 9 12]\n",
      " [13 16]]\n"
     ]
    }
   ],
   "source": [
    "print(arr[:,::3])"
   ]
  },
  {
   "cell_type": "markdown",
   "metadata": {},
   "source": [
    "# Basic array operations"
   ]
  },
  {
   "cell_type": "code",
   "execution_count": 19,
   "metadata": {},
   "outputs": [
    {
     "name": "stdout",
     "output_type": "stream",
     "text": [
      "[[1 2]\n",
      " [3 4]]\n",
      "\n",
      "[[5 6]\n",
      " [7 8]]\n"
     ]
    }
   ],
   "source": [
    "arr1 =np.array([[1,2], [3,4]])\n",
    "arr2 =np.array([[5,6],[7,8]])\n",
    "print(arr1)\n",
    "print()\n",
    "\n",
    "print(arr2)"
   ]
  },
  {
   "cell_type": "markdown",
   "metadata": {},
   "source": [
    "adding 1 to arr1  and adding 2 to arr2"
   ]
  },
  {
   "cell_type": "code",
   "execution_count": 20,
   "metadata": {},
   "outputs": [
    {
     "name": "stdout",
     "output_type": "stream",
     "text": [
      "[[2 3]\n",
      " [4 5]]\n",
      "\n",
      "[[ 7  8]\n",
      " [ 9 10]]\n"
     ]
    }
   ],
   "source": [
    "print(arr1+1)# aad 1 in arr1\n",
    "print()\n",
    "print(arr2+2)# add 2 in arr2"
   ]
  },
  {
   "cell_type": "code",
   "execution_count": 37,
   "metadata": {},
   "outputs": [
    {
     "name": "stdout",
     "output_type": "stream",
     "text": [
      " arr1 dimenssion is  2\n"
     ]
    }
   ],
   "source": [
    "print(\" arr1 dimenssion is \",arr1.ndim)"
   ]
  },
  {
   "cell_type": "code",
   "execution_count": 42,
   "metadata": {},
   "outputs": [
    {
     "name": "stdout",
     "output_type": "stream",
     "text": [
      "arr1 size is  4\n"
     ]
    }
   ],
   "source": [
    "print(\"arr1 size is \",arr1.size)"
   ]
  },
  {
   "cell_type": "code",
   "execution_count": 43,
   "metadata": {},
   "outputs": [
    {
     "name": "stdout",
     "output_type": "stream",
     "text": [
      "arr1 type is  <class 'numpy.ndarray'>\n"
     ]
    }
   ],
   "source": [
    "print(\"arr1 type is \",type(arr1))"
   ]
  },
  {
   "cell_type": "code",
   "execution_count": 44,
   "metadata": {},
   "outputs": [
    {
     "name": "stdout",
     "output_type": "stream",
     "text": [
      "arr1 shape is  (2, 2)\n"
     ]
    }
   ],
   "source": [
    "print(\"arr1 shape is \",arr1.shape)"
   ]
  },
  {
   "cell_type": "markdown",
   "metadata": {},
   "source": [
    "binary operation on both arr1 and arr2"
   ]
  },
  {
   "cell_type": "code",
   "execution_count": 21,
   "metadata": {},
   "outputs": [
    {
     "name": "stdout",
     "output_type": "stream",
     "text": [
      "[[ 6  8]\n",
      " [10 12]]\n"
     ]
    }
   ],
   "source": [
    "print(arr1+arr2)# adding the both arry"
   ]
  },
  {
   "cell_type": "code",
   "execution_count": 23,
   "metadata": {},
   "outputs": [
    {
     "name": "stdout",
     "output_type": "stream",
     "text": [
      "10\n"
     ]
    }
   ],
   "source": [
    "print(arr1.sum())# sum of arr1"
   ]
  },
  {
   "cell_type": "markdown",
   "metadata": {},
   "source": [
    "# Datatypes in numpy"
   ]
  },
  {
   "cell_type": "code",
   "execution_count": 26,
   "metadata": {},
   "outputs": [
    {
     "name": "stdout",
     "output_type": "stream",
     "text": [
      "array type is  int32\n"
     ]
    }
   ],
   "source": [
    "arr =np.array([1,2,3])\n",
    "print(\"array type is \",arr.dtype)"
   ]
  },
  {
   "cell_type": "code",
   "execution_count": 28,
   "metadata": {},
   "outputs": [
    {
     "name": "stdout",
     "output_type": "stream",
     "text": [
      "array type is  float64\n"
     ]
    }
   ],
   "source": [
    "arr =np.array([1.0,2.0,3.4])\n",
    "print(\"array type is \",arr.dtype)"
   ]
  },
  {
   "cell_type": "code",
   "execution_count": 32,
   "metadata": {},
   "outputs": [
    {
     "name": "stdout",
     "output_type": "stream",
     "text": [
      "array type is  int64\n"
     ]
    }
   ],
   "source": [
    "arr =np.array([1,2,3,4],dtype =np.int64)# forced datatype\n",
    "print(\"array type is \",arr.dtype)"
   ]
  },
  {
   "cell_type": "markdown",
   "metadata": {},
   "source": [
    "# Math operation on datatype array"
   ]
  },
  {
   "cell_type": "code",
   "execution_count": 36,
   "metadata": {},
   "outputs": [
    {
     "name": "stdout",
     "output_type": "stream",
     "text": [
      "[[ 7.6  9.4]\n",
      " [10.1 12.3]]\n",
      "\n",
      "[[1.41421356 1.73205081]\n",
      " [1.73205081 2.        ]]\n"
     ]
    }
   ],
   "source": [
    "arr1 =np.array([[2,3],[3,4]],dtype =np.int64)\n",
    "arr2 =np.array([[5.6,6.4],[7.1,8.3]],dtype =np.float64)\n",
    "\n",
    "sum =np.add(arr1,arr2)\n",
    "print(sum)\n",
    "\n",
    "print()\n",
    "sqrt =np.sqrt(arr1)\n",
    "print(sqrt)"
   ]
  },
  {
   "cell_type": "markdown",
   "metadata": {},
   "source": [
    "# numpy array methods"
   ]
  },
  {
   "cell_type": "markdown",
   "metadata": {},
   "source": [
    "Methods in Numpy\n",
    "all()\n",
    "any()\n",
    "take()\n",
    "put()\n",
    "apply_along_axis()\n",
    "apply_over_axes()\n",
    "argmin()\n",
    "argmax()\n",
    "nanargmin()\n",
    "nanargmax()\n",
    "amax()\n",
    "amin()\n",
    "insert()\n",
    "delete()\n",
    "append()\n",
    "around()\n",
    "flip()\n",
    "fliplr()\n",
    "flipud()\n",
    "triu()\n",
    "tril()\n",
    "tri()\n",
    "empty()\n",
    "empty_like()\n",
    "zeros()\n",
    "zeros_like()\n",
    "ones()\n",
    "ones_like()\n",
    "full_like()\n",
    "diag()\n",
    "diagflat()\n",
    "diag_indices()\n",
    "asmatrix()\n",
    "bmat()\n",
    "eye()\n",
    "roll()\n",
    "identity()\n",
    "arange()\n",
    "place()\n",
    "extract()\n",
    "compress()\n",
    "rot90()\n",
    "tile()\n",
    "reshape()\n",
    "ravel()\n",
    "isinf()\n",
    "isrealobj()\n",
    "isscalar()\n",
    "isneginf()\n",
    "isposinf()\n",
    "iscomplex()\n",
    "isnan()\n",
    "iscomplexobj()\n",
    "isreal()\n",
    "isfinite()\n",
    "isfortran()\n",
    "exp()\n",
    "exp2()\n",
    "fix()\n",
    "hypot()\n",
    "absolute()\n",
    "ceil()\n",
    "floor()\n",
    "degrees()\n",
    "radians()\n",
    "npv()\n",
    "fv()\n",
    "pv()\n",
    "power()\n",
    "float_power()\n",
    "log()\n",
    "log1()\n",
    "log2()\n",
    "log10()\n",
    "dot()\n",
    "vdot()\n",
    "trunc()\n",
    "divide()\n",
    "floor_divide()\n",
    "true_divide()\n",
    "random.rand()\n",
    "random.randn()\n",
    "ndarray.flat()\n",
    "expm1()\n",
    "bincount()\n",
    "rint()\n",
    "equal()\n",
    "not_equal()\n",
    "less()\n",
    "less_equal()\n",
    "greater()\n",
    "greater_equal()\n",
    "prod()\n",
    "square()\n",
    "cbrt()\n",
    "logical_or()\n",
    "logical_and()\n",
    "logical_not()logical_xor()\n",
    "array_equal()\n",
    "array_equiv()\n",
    "sin()\n",
    "cos()\n",
    "tan()\n",
    "sinh()\n",
    "cosh()\n",
    "tanh()\n",
    "arcsin()\n",
    "arccos()\n",
    "arctan()\n",
    "arctan2()"
   ]
  },
  {
   "cell_type": "markdown",
   "metadata": {},
   "source": [
    "# Some important numpy methods"
   ]
  },
  {
   "cell_type": "code",
   "execution_count": 45,
   "metadata": {},
   "outputs": [
    {
     "name": "stdout",
     "output_type": "stream",
     "text": [
      "[[0. 0. 0. 0.]\n",
      " [0. 0. 0. 0.]\n",
      " [0. 0. 0. 0.]]\n"
     ]
    }
   ],
   "source": [
    "arr=np.zeros((3,4))# make the 2D metrix with all zeros\n",
    "print(arr)"
   ]
  },
  {
   "cell_type": "code",
   "execution_count": 49,
   "metadata": {},
   "outputs": [
    {
     "name": "stdout",
     "output_type": "stream",
     "text": [
      "[0 1 2 3 4 5 6 7 8 9]\n"
     ]
    }
   ],
   "source": [
    "arr =np.arange(0,10,1)#return evenly spaced values within given an interval\n",
    "print(arr)"
   ]
  },
  {
   "cell_type": "code",
   "execution_count": 54,
   "metadata": {},
   "outputs": [
    {
     "name": "stdout",
     "output_type": "stream",
     "text": [
      "[ 1.          1.18367347  1.36734694  1.55102041  1.73469388  1.91836735\n",
      "  2.10204082  2.28571429  2.46938776  2.65306122  2.83673469  3.02040816\n",
      "  3.20408163  3.3877551   3.57142857  3.75510204  3.93877551  4.12244898\n",
      "  4.30612245  4.48979592  4.67346939  4.85714286  5.04081633  5.2244898\n",
      "  5.40816327  5.59183673  5.7755102   5.95918367  6.14285714  6.32653061\n",
      "  6.51020408  6.69387755  6.87755102  7.06122449  7.24489796  7.42857143\n",
      "  7.6122449   7.79591837  7.97959184  8.16326531  8.34693878  8.53061224\n",
      "  8.71428571  8.89795918  9.08163265  9.26530612  9.44897959  9.63265306\n",
      "  9.81632653 10.        ]\n"
     ]
    }
   ],
   "source": [
    "arr =np.linspace(1,10)# returns evenly spaced values within a given interval\n",
    "print(arr)"
   ]
  },
  {
   "cell_type": "code",
   "execution_count": 55,
   "metadata": {},
   "outputs": [
    {
     "name": "stdout",
     "output_type": "stream",
     "text": [
      "[[1. 1. 1. 1.]\n",
      " [1. 1. 1. 1.]\n",
      " [1. 1. 1. 1.]]\n"
     ]
    }
   ],
   "source": [
    "arr =np.ones((3,4))#make a 2D metrix with all ones\n",
    "print(arr)"
   ]
  },
  {
   "cell_type": "code",
   "execution_count": null,
   "metadata": {},
   "outputs": [],
   "source": []
  }
 ],
 "metadata": {
  "kernelspec": {
   "display_name": "Python 3",
   "language": "python",
   "name": "python3"
  },
  "language_info": {
   "codemirror_mode": {
    "name": "ipython",
    "version": 3
   },
   "file_extension": ".py",
   "mimetype": "text/x-python",
   "name": "python",
   "nbconvert_exporter": "python",
   "pygments_lexer": "ipython3",
   "version": "3.7.3"
  }
 },
 "nbformat": 4,
 "nbformat_minor": 2
}
